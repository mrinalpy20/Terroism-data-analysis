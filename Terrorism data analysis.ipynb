{
 "cells": [
  {
   "cell_type": "code",
   "execution_count": null,
   "id": "055f3129",
   "metadata": {},
   "outputs": [],
   "source": [
    "# Given file \"terrorismData.csv\"\n",
    "# It is an open-source database including information on terrorist attacks around the world from 1970 through 2017. \n",
    "# This dataset includes systematic data on domestic as well as international terrorist incidents that have occurred \n",
    "# during this time period.\n",
    "# Problem Statement 1:\n",
    "# The Most Dangerous city in Jammu and Kashmir and the terrorist group which is most active in that city?\n",
    "# Print count of number of attacks in that city as integer value.\n",
    "# Note:Ignoring the Unknown Terrorist Group.Here Dangerous related with the number of terrorist attacks."
   ]
  },
  {
   "cell_type": "code",
   "execution_count": 1,
   "id": "c582563b",
   "metadata": {},
   "outputs": [
    {
     "name": "stdout",
     "output_type": "stream",
     "text": [
      "Srinagar 657 Muslim Separatists\n"
     ]
    }
   ],
   "source": [
    "import pandas as pd\n",
    "df = pd.read_csv('terrorismData.csv')\n",
    "\n",
    "df = df[df.State=='Jammu and Kashmir']\n",
    "df_list = df['City'].value_counts()\n",
    "city = df_list.index[0]\n",
    "count = df_list.values[0]\n",
    "\n",
    "df = df[df['City']==city]\n",
    "group = df['Group'].value_counts().index[1]\n",
    "\n",
    "print(city,count,group)"
   ]
  },
  {
   "cell_type": "code",
   "execution_count": null,
   "id": "e9f79346",
   "metadata": {},
   "outputs": [],
   "source": [
    "# Problem Statement 2:\n",
    "# There was formation of new government in India on 26 May 2014. So current government's span is from 26th May 2014 to current. Find out two things from this period-\n",
    "# 1. Total number of attacks done in this period in India. Find this count as integer.\n",
    "# 2. Which Terrorist group was most active in this period in India. Most active means, group which has done maximum number of attacks. \n",
    "# 3.Ignore the Unknown group. "
   ]
  },
  {
   "cell_type": "code",
   "execution_count": 2,
   "id": "f7a9abd5",
   "metadata": {},
   "outputs": [
    {
     "name": "stdout",
     "output_type": "stream",
     "text": [
      "3336 Maoists\n"
     ]
    }
   ],
   "source": [
    "import pandas as pd\n",
    "import numpy as np\n",
    "df = pd.read_csv('terrorismData.csv')\n",
    "\n",
    "a = df[df.Day>=26]\n",
    "b = a[a.Year==2014]\n",
    "c = b[b.Country=='India']\n",
    "ans1 = c[c.Month==5]\n",
    "\n",
    "d = df[df.Year==2014]\n",
    "e = d[d.Country=='India']\n",
    "ans2 = e[e.Month>5]\n",
    "\n",
    "f = df[df.Country=='India']\n",
    "ans3 = f[f.Year>2014]\n",
    "\n",
    "count = ans1.shape[0] + ans2.shape[0] + ans3.shape[0]\n",
    "\n",
    "ans1=ans1[ans1.Group!='Unknown']\n",
    "ans2=ans2[ans2.Group!='Unknown']\n",
    "ans3=ans3[ans3.Group!='Unknown']\n",
    "\n",
    "print(count,ans3.Group.describe().top)"
   ]
  },
  {
   "cell_type": "code",
   "execution_count": null,
   "id": "d9e7de6d",
   "metadata": {},
   "outputs": [],
   "source": [
    "# Problem Statement 3:\n",
    "# Find the frequency of the Casualty in Red Corridor states and in Jammu and Kashmir ?\n",
    "# Here Frequency is (Total Casualty/Total Number of a year)\n",
    "# Print frequency as integer value.\n",
    "# Note:Red Corridor state includes Jharkhand, Odisha, Andhra Pradesh, and Chhattisgarh. Here Casualty=Killed +Wounded.\n",
    "#     Don't fill the nan value present in Killed and Wounded feature."
   ]
  },
  {
   "cell_type": "code",
   "execution_count": 3,
   "id": "ead2ab80",
   "metadata": {},
   "outputs": [
    {
     "name": "stdout",
     "output_type": "stream",
     "text": [
      "115 261\n"
     ]
    }
   ],
   "source": [
    "import pandas as pd\n",
    "import numpy as np\n",
    "df = pd.read_csv('terrorismData.csv')\n",
    "\n",
    "year = len(set(df['Year']))\n",
    "\n",
    "df = df[df.Country == 'India']\n",
    "df['Casualty'] = df['Killed'] + df['Wounded']\n",
    "\n",
    "jk = df[df.State == 'Jammu and Kashmir']\n",
    "rc = df[(df.State == 'Jharkhand') | (df.State == 'Odisha') | (df.State == 'Andhra Pradesh') | (df.State == 'Chhattisgarh')]\n",
    "\n",
    "jkc = int(np.sum(jk['Casualty']))\n",
    "rcc = int(np.sum(rc['Casualty']))\n",
    "\n",
    "print(rcc//year,jkc//year)"
   ]
  },
  {
   "cell_type": "code",
   "execution_count": null,
   "id": "b4210db1",
   "metadata": {},
   "outputs": [],
   "source": [
    "# Problem Statement 4:\n",
    "# Most Deadliest attack in a history of HumanKind?\n",
    "# Print count of Killed people as integer value.\n",
    "# Note: Here Deadliest attack means, in which the most number of people killed."
   ]
  },
  {
   "cell_type": "code",
   "execution_count": 4,
   "id": "46faf3fd",
   "metadata": {},
   "outputs": [
    {
     "name": "stdout",
     "output_type": "stream",
     "text": [
      "1570 Iraq Islamic State of Iraq and the Levant (ISIL)\n"
     ]
    }
   ],
   "source": [
    "import pandas as pd\n",
    "df = pd.read_csv('terrorismData.csv')\n",
    "\n",
    "df = df[df.Killed==df.Killed.max()]\n",
    "mx_killed = df.Killed.iloc[0]\n",
    "country = df.Country.iloc[0]\n",
    "group = df.Group.iloc[0]\n",
    "print(int(mx_killed), country, group)"
   ]
  },
  {
   "cell_type": "code",
   "execution_count": null,
   "id": "cb6ec2f0",
   "metadata": {},
   "outputs": [],
   "source": [
    "# Problem Statement 5:\n",
    "# Find out the Country with Highest Number of Terror Attack and in which year the most number of \n",
    "# terrorist attack happened in that country ?\n",
    "# Print count of terror attacks as integer value."
   ]
  },
  {
   "cell_type": "code",
   "execution_count": 5,
   "id": "0d30edf2",
   "metadata": {},
   "outputs": [
    {
     "name": "stdout",
     "output_type": "stream",
     "text": [
      "Iraq 24636 2014\n"
     ]
    }
   ],
   "source": [
    "import pandas as pd\n",
    "df = pd.read_csv('terrorismData.csv')\n",
    "\n",
    "df_list = df['Country'].value_counts()\n",
    "country = df_list.index[0]\n",
    "attack = df_list.values[0]\n",
    "\n",
    "df = df[df['Country']==country]\n",
    "year = df['Year'].value_counts().index[0]\n",
    "\n",
    "print(country,attack,year)"
   ]
  },
  {
   "cell_type": "code",
   "execution_count": null,
   "id": "8dc0a30d",
   "metadata": {},
   "outputs": [],
   "source": []
  }
 ],
 "metadata": {
  "kernelspec": {
   "display_name": "Python 3",
   "language": "python",
   "name": "python3"
  },
  "language_info": {
   "codemirror_mode": {
    "name": "ipython",
    "version": 3
   },
   "file_extension": ".py",
   "mimetype": "text/x-python",
   "name": "python",
   "nbconvert_exporter": "python",
   "pygments_lexer": "ipython3",
   "version": "3.8.8"
  }
 },
 "nbformat": 4,
 "nbformat_minor": 5
}
